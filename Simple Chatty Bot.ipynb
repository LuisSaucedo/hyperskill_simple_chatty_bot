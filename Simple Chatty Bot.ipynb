{
 "cells": [
  {
   "cell_type": "code",
   "execution_count": 4,
   "metadata": {},
   "outputs": [
    {
     "name": "stdout",
     "output_type": "stream",
     "text": [
      "5\n",
      "0  !\n",
      "1  !\n",
      "2  !\n",
      "3  !\n",
      "4  !\n",
      "5  !\n"
     ]
    }
   ],
   "source": [
    "# cuenta los números del 0 al que ingreses\n",
    "number = int(input())\n",
    "counter = 0\n",
    "\n",
    "# ejemplo de función range(), tiene que ir + 1 si queremos que esté el término number.\n",
    "while counter in range(0, number + 1):\n",
    "    print(counter, ' !')\n",
    "    counter += 1"
   ]
  },
  {
   "cell_type": "markdown",
   "metadata": {},
   "source": [
    "# Teacher and Student\n",
    "## Invoking a Function\n",
    "\n",
    "Invocar funciones en Python no es sobre lanzar hechizos o algo similar, es cierto que a veces hacen maravillas. Empecemos con el concepto. Básicamente una **función** es un fragmento estructurado de código que queremos usar más de una vez y en más de un lugar. Las funciones nos permiten leer mejor nuestro código y el de alguien más. Ejemplo:\n",
    "\n",
    "multiply(1, 7). Aquí **multiply** es el nombre de la función, y los números en el paréntesis **(1, 7)** son sus **argumentos**. ¿Qué es un argumento? Es solo un valor, que será utilizado denro del cuerpo de la función.\n",
    "\n",
    "## Invoking print()\n",
    "Para **llamar**, o **invocar**, una **función** en tu programa, solamente debes escribir su nombre y añadir paréntesis después del nombre. En la función print('Hello, world!') la cadena es el argumento de la función. Más común que lo contrario, las funciones tienen argumentos. Algunas funciones pueden no ir con argumentos como la función print().\n",
    "\n",
    "Puedes aprender más de una función en la **documentación**, ahí vendrá que tipo de argumentos espera la función.\n"
   ]
  },
  {
   "cell_type": "code",
   "execution_count": 5,
   "metadata": {},
   "outputs": [
    {
     "name": "stdout",
     "output_type": "stream",
     "text": [
      "Hello, world!\n",
      "\n",
      "Bye, then!\n"
     ]
    }
   ],
   "source": [
    "print('Hello, world!')\n",
    "print()  # imprime una línea vacía\n",
    "print('Bye, then!')"
   ]
  },
  {
   "cell_type": "markdown",
   "metadata": {},
   "source": [
    "# Built-In functions.\n",
    "Las funciones pueden volver más fácil la vida. Muchos algoritmos ya están escritos, no hay necesidad de reinventarlos, excepto quizás para fines educaivos. El interpretador de Python tiene un número de funciones **built into** Python, de manera que siempre están disponibles. Acualmente, hay 69 funciones en Python (Pyhon 3.8)"
   ]
  },
  {
   "cell_type": "code",
   "execution_count": 3,
   "metadata": {},
   "outputs": [
    {
     "name": "stdout",
     "output_type": "stream",
     "text": [
      "3\n",
      "111.0\n",
      "226.0\n",
      "226\n",
      "111\n",
      "<class 'float'>\n"
     ]
    }
   ],
   "source": [
    "number = \"111\"\n",
    " \n",
    "# finding the length of an object\n",
    "print(len(number))  # 3\n",
    " \n",
    "# converting types\n",
    "integer = int(number)\n",
    "float_number = float(number)\n",
    "print(str(float_number))  # \"111.0\"\n",
    " \n",
    "# adding and rounding numbers\n",
    "my_sum = sum((integer, float_number))  # Suma tuplas\n",
    "print(my_sum)  # 222.0\n",
    "print(round(my_sum))  # 222\n",
    " \n",
    "# finding the minimum and the maximum\n",
    "print(min(integer, float_number))  # 111\n",
    "print(type(max(integer, float_number, my_sum)))  # <class 'float'>"
   ]
  },
  {
   "cell_type": "markdown",
   "metadata": {},
   "source": [
    "# Recap\n",
    "La belleza de las funciones es que podemos usarlas sin tener claro su estructura interna y cómo funcionan para realizar lo que necesitamos. Pero si tú quieres ponerle un buen uso a una función, asegúrate de verificar su **documentación** o intenta invocar la función especial **help()** con el nombre de la función en cuestión dentro de los paréntesis. Se puede volver necesario si, por ejemplo, la función no regresa ningún valor, escribe datos procesados o imprime el output en la pantalla.\n",
    "\n",
    "Hagamos un pequeño resumen:\n",
    "+ las funciones están hechas para ser reutilizables, lo que significa que somos libres de aplicar la función varias veces en diferentes argumentos,\n",
    "+ para llamar a una función escribe sus nombres seguidos de paréntesis y pon los argumento dentro,\n",
    "+  normalmente, una función tiene documentación, lo cual a veces puede ser de gran ayuda."
   ]
  },
  {
   "cell_type": "code",
   "execution_count": 8,
   "metadata": {},
   "outputs": [
    {
     "name": "stdout",
     "output_type": "stream",
     "text": [
      "Help on built-in function sum in module builtins:\n",
      "\n",
      "sum(iterable, start=0, /)\n",
      "    Return the sum of a 'start' value (default: 0) plus an iterable of numbers\n",
      "    \n",
      "    When the iterable is empty, return the start value.\n",
      "    This function is intended specifically for use with numeric values and may\n",
      "    reject non-numeric types.\n",
      "\n"
     ]
    }
   ],
   "source": [
    "# La función sum trabaja con objetos iterables, por eso se necesita una tupla, por ejemplo.\n",
    "help(sum)\n",
    "help({sum})"
   ]
  },
  {
   "cell_type": "markdown",
   "metadata": {},
   "source": [
    "# Funciones min() y max()\n",
    "¡Un dato curioso acerca de las funciones **min()** y **max()** es que estas funciones pueden ayudar a ordenar de manera alfabética! Si una cadena es introducida como argumento, **min()** devolverá la primer letra (alfabéticamente) y **max()** la última (de alguna manera, zetabéticamente). Si tú especificas más de un valor, **min()** devolverá la primer cadena en orden alfabético y **max()**, en contraste, la última. Por ejemplo, **min('alpha', 'omega')** devuelce **'alpha´**, mientras que **max()**  devuelve **'omega'**."
   ]
  },
  {
   "cell_type": "code",
   "execution_count": null,
   "metadata": {},
   "outputs": [],
   "source": [
    "max(\"gloomy\", \"grew\", \"green\")  # 'grew'\n",
    "min(\"gloomy\", \"grey\", \"green\")  # 'gloomy'\n",
    "min(\"green\", \"grass\")           # 'grass'\n",
    "max(\"gloomy\", \"grey\", \"green\")  # 'grey'"
   ]
  },
  {
   "cell_type": "markdown",
   "metadata": {},
   "source": [
    "# Declarando una función.\n",
    "A menudo, las funciones ya contruidas (built-in) no son suficientes incluso para principiantes. En tal caso, no hay otra opción más que crear tu propia función utilizando la palabra clave **def** (exacto, derivado de **define (definir)**). Veamos las sintaxis:"
   ]
  },
  {
   "cell_type": "code",
   "execution_count": null,
   "metadata": {},
   "outputs": [],
   "source": [
    "# No correr\n",
    "def function_name(parametro1, parametro2, ...):\n",
    "    # cuerpo de la función\n",
    "    ...\n",
    "    return 'return value'  "
   ]
  },
  {
   "cell_type": "markdown",
   "metadata": {},
   "source": [
    "## Sintaxis\n",
    "Después de **def**, escribimos el nombre de nuestra función (para invocarla más tarde) y los nombres de los **parámetros**, los cuales nuestra función puede aceptar, encerrados en paréntesis. No se olviden los dos puntos al final de la línea. Los nombres de las funciones y sus parámetros siguen la misma convención que los **nombres de variables**, esto es, deben estar escritos en **minúsculas con guión bajo entre palabras**.\n",
    "\n",
    "Una sangría de 4 espacios muestra al interpretador dónde comienza el cuerpo de la función y dónde termina. Todos los enunciados en el cuerpo de la función deben tener sangría. Puedes hacer cálculos dentro de la función y utilizar la palabra clave **return** para enviar el resultado de regreso. Solo cuando no hay sangría, la definición de la función termina.\n",
    "\n",
    "Luego, los parámteros toman valores introducidos a través de la llamada de la función. Esos valores que pasamos a una función son conocidos como **arguments (argumentos)**. La única distinción entre parámetros y argumentos es que nosotros introducimos los parámetros en una definición de función y damos argumentos (algunos valores específicos) en una llamada de función. Aquí hay un ejemplo un poco menos abstracto de una función:\n",
    "\n",
    "En caso de que no quieras pasar ningún argumento, lo paréntesis se quedan vacíos.\n",
    "\n",
    "También puedes declarar una especie de función vacía con el enunciado **pass**. Cuando escoges llamar **lazy_func()** con un valor arbitrario como argumento, nada pasará. Entonces **pass** es un placeholder (instrucción para denotar una cantidad u operador faltantes), al menos el tu código será válido con él.\n",
    "\n"
   ]
  },
  {
   "cell_type": "code",
   "execution_count": 3,
   "metadata": {},
   "outputs": [
    {
     "name": "stdout",
     "output_type": "stream",
     "text": [
      "Hello, people!\n"
     ]
    }
   ],
   "source": [
    "# Definición de función\n",
    "def multiply(x, y):\n",
    "    return x * y\n",
    "\n",
    "# Llamadas de la función (function calls)\n",
    "a = multiply(3, 5)   # 15\n",
    "b = multiply(1, 10)  # 150\n",
    "\n",
    "# Si no quieres pasar argumentos.\n",
    "def welcome():\n",
    "    print('Hello, people!')\n",
    "    \n",
    "# Función vacía\n",
    "def lazy_func(param):\n",
    "    pass\n",
    "\n",
    "lazy_func(10100101)  # no hay error.\n",
    "welcome()"
   ]
  },
  {
   "cell_type": "markdown",
   "metadata": {},
   "source": [
    "# Parámetros vs argumentos.\n",
    "No es del todo claro justo ahora, ¿qué son los parámetros, o sí? De hecho, los parámetros son solo apodos o sobrenombres para los valores, los cuales pueden ser pasados a una función. Considera el siguiente ejemplo (ver código).\n",
    "\n",
    "Como puedes ver, esta función es una pieca de código reutilizable,  que puede ser ejecutada con diferentes argumentos, es decir, diferentes valores pasados a esta función. Aquí, **adress** y **message** son solo sobrenombres sobre los cuales la función recibe valores y luego los procesa en el cuerpo. \n",
    "\n",
    "Esta función toma exactamente dos argumentos, por lo cual no podrás ejecutarla con más o menos de dos argumentos. En caso de hacerlo Python mandará el error **TypeError**."
   ]
  },
  {
   "cell_type": "code",
   "execution_count": null,
   "metadata": {},
   "outputs": [],
   "source": [
    "def send_postcard(address, message):\n",
    "    print(\"Sending a postcard to\", address)\n",
    "    print(\"With the message:\", message)\n",
    "\n",
    "send_postcard(\"Hilton, 97\", \"Hello, bro!\")\n",
    "# Sending a postcard to Hilton, 97\n",
    "# With the message: Hello, bro!\n",
    " \n",
    "send_postcard(\"Piccadilly, London\", \"Hi, London!\")\n",
    "# Sending a postcard to Piccadilly, London\n",
    "# With the message: Hi, London!\n",
    "\n",
    "# Marca error\n",
    "send_postcard(\"Big Ben, London\")"
   ]
  },
  {
   "cell_type": "markdown",
   "metadata": {},
   "source": [
    "# Ejecución y regreso.\n",
    "Nuestra función anterior solo realizó algunas acciones, pero no regresó ningún **valor de regreso (return value)**. Como sea, tú podrías querer calcular algo en una función y regresar el resultado en algún punto. Ve el ejemplo del código de abajo.\n",
    "\n",
    "La palabra clave **return** es utilizada para indicar qué valores produce la función. Básicamente, es el resultado de la llamada de la función. Por lo tanto, en el ejemplo de abajo, hemos guardado el valor regresador por nuestra función en la variable **water_bp**. Solo para estar seguros, imprimimos el resultado.\n",
    "\n",
    "Una cosa más que decir es que las funciones no necesariamente tienen que regresar valores. La bien conocida función **print()**, de hecho, no regresa nada. Abajo ve el código y su output. Hemos declarado a la variable **chant** e invocado **print()**. Obviamente, la función fue ejecutada. Pero la variable por sí misma resultó ser el objeto **None**, lo cual significa que la función no tuvo nada qué regresar. El valor de **chant** es **None**.\n",
    "\n",
    "**Python detiene la función despues de \"return\". ¿Pero qué pasa si el cuerpo de la función tiene más de un enunciado \"return\"? Entonces la ejecución terminará después del primero. Por favor, ¡ten esto en cuenta! "
   ]
  },
  {
   "cell_type": "code",
   "execution_count": 5,
   "metadata": {},
   "outputs": [
    {
     "name": "stdout",
     "output_type": "stream",
     "text": [
      "212.0\n",
      "We Will Rock You\n",
      "<class 'NoneType'>\n"
     ]
    }
   ],
   "source": [
    "def celsius_to_fahrenheit(temps_c):\n",
    "    temps_f = temps_c * 9 / 5 + 32\n",
    "    return round(temps_f, 2)\n",
    "  \n",
    "# Convert the boiling point of water\n",
    "water_bp = celsius_to_fahrenheit(100)\n",
    "print(water_bp)  # 212.0\n",
    "\n",
    "chant = print('We Will Rock You')\n",
    "print(type(chant))\n",
    "print(chant)  # None"
   ]
  },
  {
   "cell_type": "markdown",
   "metadata": {},
   "source": [
    "# Conclusión.\n",
    "Por lo tanto, hemos aprendido la sintaxis para declarar funciones. Ahora también sabes que:\n",
    "\n",
    "+ Los parámetros de una función son simplemente sobrenombres, o **placeholders**, para valores que pasarás a ellos. Los parámetros son re inicializados cada vez que llamas a la función. Dentro de la función, tienens accesos a estos valores, lo cual siginifica que puedes realizar cálculos en ellos.\n",
    "\n",
    "+ Una función puede simplemente realizar una acción sin regresar nada o regresando un resultado específico. Si tu función no regresa nada, asignar su resultado a una variable o imprimirla dará **None**. \n",
    "\n",
    "Declarar tus propias funciones hace tu código más estructurado y reutilizable. Cuando sea que utilices el mismo pedazo de código más de una vez, ¡intenta crear una función de eso!"
   ]
  },
  {
   "cell_type": "markdown",
   "metadata": {},
   "source": [
    "# Ejercicios:\n"
   ]
  },
  {
   "cell_type": "code",
   "execution_count": 13,
   "metadata": {},
   "outputs": [
    {
     "name": "stdout",
     "output_type": "stream",
     "text": [
      "3\n",
      "3\n"
     ]
    }
   ],
   "source": [
    "# Para definir dos return\n",
    "def parity(number):\n",
    "    if number % 2 == 0:\n",
    "        return \"Your number is even\"\n",
    "    return \"Your number is odd\"\n",
    "\n",
    "# millas a kilómetros\n",
    "def mi_to_km(miles):\n",
    "    return miles * 1.609\n",
    "\n",
    "def three():\n",
    "    print(3)\n",
    "    return 3\n",
    "    print(3)\n",
    "\n",
    "three()\n",
    "print(3)"
   ]
  },
  {
   "cell_type": "code",
   "execution_count": null,
   "metadata": {},
   "outputs": [],
   "source": [
    "# Dado un entero x, regresar el menor entero y tal que: \n",
    "# y es mayor o igual que x.\n",
    "# y es divisible por 5.\n",
    "def closest_mod_5(x):\n",
    "    while x % 5 != 0:\n",
    "        x += 1\n",
    "    return x"
   ]
  },
  {
   "cell_type": "markdown",
   "metadata": {},
   "source": [
    "# Simple if-else\n",
    "Un **enunciado if-else** es otro tipo de expresión condicional en Python. Difiere de un **enunciado if** por la presencia de la palabra clave adicional **else**. El bloque de código que **else** contiene se ejecuta cuando la condición de tu enunciado if no se mantiene (el valor booleano es **False**). Dado que un enunciado else es una alternativa para un enunciado if, solo un bloque de código puede ser ejecutado. También, **else** no requiere ninguna condición.\n",
    "\n",
    "Notar que la regla de la sangría de 4 espacios aplica aquí también. Como podrás ver pronto, a los programadores les gustan todo tipo de atajos. Para expresiones condicionales hay un truco también -puedes escribir un enunciado if-else en una línea justo como abajo, o más general:\n",
    "\n",
    "+ first_alternative if condition else second_alternative.\n",
    "\n",
    "Es una cuestión de conveniencia, pero recuerda que el código que crees sebe ser todavía legible."
   ]
  },
  {
   "cell_type": "code",
   "execution_count": 7,
   "metadata": {},
   "outputs": [
    {
     "name": "stdout",
     "output_type": "stream",
     "text": [
      "Keep your chin up, then\n",
      "It's a day now!\n"
     ]
    }
   ],
   "source": [
    "today = 'hoy'\n",
    "if today == 'holiday':\n",
    "    print('Lucky you!')    \n",
    "else:\n",
    "    print('Keep your chin up, then')\n",
    "    \n",
    "# if-else en una línea\n",
    "sun = 1\n",
    "print(\"It's a day now!\" if sun else \"It's a night for sure!\")\n",
    "\n",
    "# Más general\n",
    "# first_alternative if condition else second_alternative"
   ]
  },
  {
   "cell_type": "markdown",
   "metadata": {},
   "source": [
    "# if-else anidado. (Nested).\n",
    "Debe mencionarse, que los enunciados **if-else** pueden ser **anidados** de la misma manera que los enunciados **if**. Una expresión condicional adicional puede aparecer después de la sección **if** como puede aparecer en la sección **else**. Una vez más, no olvides agregar las sangrías propiamente.\n",
    "\n",
    "Ahora estás listo no solo para fijar condiciones también puedes considerar diferentes alternativas. ¡Felicidades!"
   ]
  },
  {
   "cell_type": "code",
   "execution_count": 1,
   "metadata": {},
   "outputs": [
    {
     "name": "stdout",
     "output_type": "stream",
     "text": [
      "x = 100\n",
      "This will be printed only because x >= 100\n"
     ]
    }
   ],
   "source": [
    "x = 100\n",
    "if x < 100:\n",
    "    print('x < 100')\n",
    "else:\n",
    "    if x == 100:\n",
    "        print('x = 100')\n",
    "    else:\n",
    "        print('x > 100')\n",
    "    print('This will be printed only because x >= 100')"
   ]
  },
  {
   "cell_type": "code",
   "execution_count": null,
   "metadata": {},
   "outputs": [],
   "source": [
    "# Ejemplo\n",
    "dictionary = [\"aa\", \"abab\", \"aac\", \"ba\", \"bac\", \"baba\", \"cac\", \"caac\"]\n",
    "word = input()\n",
    "print('Correct' if word in dictionary else 'Incorrect')\n"
   ]
  },
  {
   "cell_type": "code",
   "execution_count": 11,
   "metadata": {},
   "outputs": [
    {
     "data": {
      "text/plain": [
       "20.0"
      ]
     },
     "execution_count": 11,
     "metadata": {},
     "output_type": "execute_result"
    }
   ],
   "source": [
    "# Ejercicio de mostrar si el año es leap u ordinary\n",
    "year = int(input())\n",
    "print('Leap' if year % 4 == 0 and year % 10 != 0 or year % 400 == 0 else 'Ordinary')\n",
    "\n",
    "# Ejercicio de horas suficientes de sueño\n",
    "recommended = int(input())\n",
    "not_recommended = int(input())\n",
    "hours_slept = int(input())\n",
    "\n",
    "if recommended <= hours_slept <= not_recommended:\n",
    "    print('Normal')\n",
    "else: \n",
    "    print('Excess' if hours_slept > not_recommended else 'Deficiency')\n",
    "    \n",
    "# Ejercicio de imprimir el máximo y luego el mínimo\n",
    "integer_one = int(input())\n",
    "integer_two = int(input())\n",
    "\n",
    "if integer_one < integer_two:\n",
    "    print(integer_two)\n",
    "    print(integer_one)\n",
    "else:\n",
    "    if integer_two < integer_one:\n",
    "        print(integer_one)\n",
    "        print(integer_two)\n",
    "    else:\n",
    "        print(integer_one)\n",
    "        print(integer_two)"
   ]
  },
  {
   "cell_type": "code",
   "execution_count": null,
   "metadata": {},
   "outputs": [],
   "source": [
    "# Proyecto final:\n",
    "def greet(bot_name, birth_year):\n",
    "    print('Hello! My name is ' + bot_name + '.')\n",
    "    print('I was created in ' + birth_year + '.')\n",
    "\n",
    "\n",
    "def remind_name():\n",
    "    print('Please, remind me your name.')\n",
    "    name = input()\n",
    "    print('What a great name you have, ' + name + '!')\n",
    "\n",
    "\n",
    "def guess_age():\n",
    "    print('Let me guess your age.')\n",
    "    print('Enter remainders of dividing your age by 3, 5 and 7.')\n",
    "\n",
    "    rem3 = int(input())\n",
    "    rem5 = int(input())\n",
    "    rem7 = int(input())\n",
    "    age = (rem3 * 70 + rem5 * 21 + rem7 * 15) % 105\n",
    "\n",
    "    print(\"Your age is \" + str(age) + \"; that's a good time to start programming!\")\n",
    "\n",
    "\n",
    "def count():\n",
    "    print('Now I will prove to you that I can count to any number you want.')\n",
    "\n",
    "    num = int(input())\n",
    "    curr = 0\n",
    "    while curr <= num:\n",
    "        print(curr, '!')\n",
    "        curr = curr + 1\n",
    "\n",
    "\n",
    "def test():\n",
    "    print(\"Let's test your programming knowledge.\")\n",
    "    print('Why do we use methods?')\n",
    "    print('1. To repeat a statement multiple times.')\n",
    "    print('2. To decompose a program into several small subroutines.')\n",
    "    print('3. To determine the execution time of a program.0')\n",
    "    print('4. To interrupt the execution of a program.')\n",
    "    answer = int(input())\n",
    "    print('Completed, have a nice day!' if answer == 2 else 'Please, try again.')\n",
    " \n",
    "# ¿por qué sale en rosa?\n",
    "def end():\n",
    "    print('Congratulations, have a nice day!')\n",
    "\n",
    "greet('Aid', '2020')  # change it as you need\n",
    "remind_name()\n",
    "guess_age()\n",
    "count()\n",
    "test()\n",
    "end()\n"
   ]
  }
 ],
 "metadata": {
  "kernelspec": {
   "display_name": "Python 3",
   "language": "python",
   "name": "python3"
  },
  "language_info": {
   "codemirror_mode": {
    "name": "ipython",
    "version": 3
   },
   "file_extension": ".py",
   "mimetype": "text/x-python",
   "name": "python",
   "nbconvert_exporter": "python",
   "pygments_lexer": "ipython3",
   "version": "3.7.6"
  }
 },
 "nbformat": 4,
 "nbformat_minor": 4
}
